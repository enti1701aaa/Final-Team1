{
  "nbformat": 4,
  "nbformat_minor": 0,
  "metadata": {
    "colab": {
      "provenance": [],
      "authorship_tag": "ABX9TyPk7UfhZAQVUOdtc23SGXPQ",
      "include_colab_link": true
    },
    "kernelspec": {
      "name": "python3",
      "display_name": "Python 3"
    },
    "language_info": {
      "name": "python"
    }
  },
  "cells": [
    {
      "cell_type": "markdown",
      "metadata": {
        "id": "view-in-github",
        "colab_type": "text"
      },
      "source": [
        "<a href=\"https://colab.research.google.com/github/JH-KIM-82/Final-Team1/blob/main/API_%EC%9E%A5%EB%A5%B4_%EC%B6%94%EC%B6%9C.ipynb\" target=\"_parent\"><img src=\"https://colab.research.google.com/assets/colab-badge.svg\" alt=\"Open In Colab\"/></a>"
      ]
    },
    {
      "cell_type": "markdown",
      "source": [
        "# 장르 불러오기"
      ],
      "metadata": {
        "id": "JMaX6PhgK2TN"
      }
    },
    {
      "cell_type": "code",
      "source": [
        "# ==============================\n",
        "# 1. 기본 세팅\n",
        "# ==============================\n",
        "import pandas as pd\n",
        "import numpy as np\n",
        "import matplotlib.pyplot as plt\n",
        "import seaborn as sns"
      ],
      "metadata": {
        "id": "nAL4qht8P511"
      },
      "execution_count": null,
      "outputs": []
    },
    {
      "cell_type": "code",
      "execution_count": null,
      "metadata": {
        "id": "2EWYlgKs0PGT",
        "colab": {
          "base_uri": "https://localhost:8080/"
        },
        "outputId": "67a203a6-64f8-485b-b75d-56a8d02cdf8c"
      },
      "outputs": [
        {
          "output_type": "stream",
          "name": "stderr",
          "text": [
            "/tmp/ipython-input-3985894152.py:2: DtypeWarning: Columns (24,25,26) have mixed types. Specify dtype option on import or set low_memory=False.\n",
            "  df = pd.read_csv(\"/content/weighted_score_above_08_modified.csv\")\n"
          ]
        }
      ],
      "source": [
        "# 데이터 불러오기 (파일명: weighted_score_above_08_modified.csv)\n",
        "df = pd.read_csv(\"/content/weighted_score_above_08_modified.csv\")"
      ]
    },
    {
      "cell_type": "code",
      "source": [
        "# # 속도를 빠르게 하기 위하여 유니크 앱 아이디와 게임명만 따로 추출\n",
        "# # Extract unique combinations of 'appid' and 'game'\n",
        "# unique_appid_game = df[['appid', 'game']].drop_duplicates()\n",
        "\n",
        "# # Define the output file name\n",
        "# output_filename = \"unique_appid_game.csv\"\n",
        "\n",
        "# # Save the unique combinations to a CSV file\n",
        "# unique_appid_game.to_csv(output_filename, index=False)\n",
        "\n",
        "# print(f\"Unique appid and game combinations saved to {output_filename}\")"
      ],
      "metadata": {
        "id": "Hs2LAZsoP_lb"
      },
      "execution_count": null,
      "outputs": []
    },
    {
      "cell_type": "code",
      "source": [
        "import pandas as pd\n",
        "import os\n",
        "\n",
        "# 고유 appid만 추출\n",
        "unique_appid = df[['appid']].drop_duplicates().reset_index(drop=True)\n",
        "\n",
        "# 배치 크기와 기본 파일명 설정\n",
        "batch_size = 5000\n",
        "base_filename = \"unique_appid_part\"\n",
        "\n",
        "# 출력 폴더(옵션): 필요 시 생성\n",
        "output_dir = \".\"\n",
        "os.makedirs(output_dir, exist_ok=True)\n",
        "\n",
        "# 전체 개수\n",
        "n = len(unique_appid)\n",
        "\n",
        "# 배치 저장 루프\n",
        "for i in range(0, n, batch_size):\n",
        "    batch = unique_appid.iloc[i:i+batch_size].copy()\n",
        "    part_idx = i // batch_size + 1  # 1부터 시작하는 파트 번호\n",
        "\n",
        "    # 파일명에 파트 번호와 범위를 명시(가독성용)\n",
        "    start_idx = i\n",
        "    end_idx = min(i + batch_size, n) - 1\n",
        "    filename = f\"{base_filename}_{part_idx:03d}_{start_idx:06d}-{end_idx:06d}.csv\"\n",
        "\n",
        "    # CSV 저장\n",
        "    batch.to_csv(os.path.join(output_dir, filename), index=False)\n",
        "\n",
        "    print(f\"Saved {len(batch)} rows to {filename}\")\n",
        "\n",
        "print(f\"Done. Total rows: {n}, files created: {(n + batch_size - 1) // batch_size}\")"
      ],
      "metadata": {
        "colab": {
          "base_uri": "https://localhost:8080/"
        },
        "id": "5iOO3iHaRWFY",
        "outputId": "687674bb-7220-4c89-ae69-f0e251d10e42"
      },
      "execution_count": null,
      "outputs": [
        {
          "output_type": "stream",
          "name": "stdout",
          "text": [
            "Saved 5000 rows to unique_appid_part_001_000000-004999.csv\n",
            "Saved 5000 rows to unique_appid_part_002_005000-009999.csv\n",
            "Saved 5000 rows to unique_appid_part_003_010000-014999.csv\n",
            "Saved 3439 rows to unique_appid_part_004_015000-018438.csv\n",
            "Done. Total rows: 18439, files created: 4\n"
          ]
        }
      ]
    },
    {
      "cell_type": "code",
      "source": [
        "# 속도를 빠르게 하기 위하여 유니크 앱 아이디만 따로 추출\n",
        "# Extract unique combinations of 'appid'\n",
        "unique_appid_game = df[['appid']].drop_duplicates()\n",
        "\n",
        "# Define the output file name\n",
        "output_filename = \"unique_appid.csv\"\n",
        "\n",
        "# Save the unique combinations to a CSV file\n",
        "unique_appid_game.to_csv(output_filename, index=False)\n",
        "\n",
        "print(f\"Unique appid and game combinations saved to {output_filename}\")"
      ],
      "metadata": {
        "id": "E1MHjYzfoDwK"
      },
      "execution_count": null,
      "outputs": []
    },
    {
      "cell_type": "code",
      "source": [
        "# 호출 테스트 - 1개  불러오기\n",
        "import requests\n",
        "\n",
        "appid = 1015710\n",
        "url = f\"https://store.steampowered.com/api/appdetails?appids={appid}\"\n",
        "\n",
        "res = requests.get(url, timeout=10)\n",
        "data = res.json()\n",
        "\n",
        "if data.get(str(appid), {}).get(\"success\"):\n",
        "    genres = data[str(appid)][\"data\"].get(\"genres\", [])\n",
        "    genres = \";\".join([g[\"description\"] for g in genres])\n",
        "else:\n",
        "    genres = \"\"\n",
        "\n",
        "print(f\"{appid} 장르: {genres}\")\n"
      ],
      "metadata": {
        "id": "9o9feeRYuhyE"
      },
      "execution_count": null,
      "outputs": []
    },
    {
      "cell_type": "code",
      "source": [
        "# import requests\n",
        "# import csv\n",
        "# from concurrent.futures import ThreadPoolExecutor, as_completed\n",
        "# import time\n",
        "\n",
        "# INPUT_FILE = \"unique_appid.csv\"   # appid 리스트 (1열에 appid만 있음)\n",
        "# OUTPUT_FILE = \"appid_genres.csv\"\n",
        "\n",
        "# def get_genres(appid):\n",
        "#     url = f\"https://store.steampowered.com/api/appdetails?appids={appid}\"\n",
        "#     try:\n",
        "#         res = requests.get(url, timeout=5)\n",
        "#         data = res.json()\n",
        "#         if data.get(str(appid), {}).get(\"success\"):\n",
        "#             genres = data[str(appid)][\"data\"].get(\"genres\", [])\n",
        "#             return \";\".join([g[\"description\"] for g in genres])\n",
        "#     except Exception as e:\n",
        "#         return \"\"\n",
        "#     return \"\"\n",
        "\n",
        "# # --- 입력 데이터 읽기 ---\n",
        "# with open(INPUT_FILE, \"r\", encoding=\"utf-8\") as fin:\n",
        "#     appids = [line.strip() for line in fin if line.strip().isdigit()]\n",
        "\n",
        "# # --- 출력 CSV 준비 ---\n",
        "# with open(OUTPUT_FILE, \"w\", newline=\"\", encoding=\"utf-8\") as fout:\n",
        "#     writer = csv.writer(fout)\n",
        "#     writer.writerow([\"appid\", \"genres\"])\n",
        "\n",
        "#     # 병렬 처리\n",
        "#     with ThreadPoolExecutor(max_workers=15) as executor:\n",
        "#         future_to_appid = {executor.submit(get_genres, appid): appid for appid in appids}\n",
        "\n",
        "#         for i, future in enumerate(as_completed(future_to_appid), 1):\n",
        "#             appid = future_to_appid[future]\n",
        "#             genres = future.result()\n",
        "#             writer.writerow([appid, genres])\n",
        "\n",
        "#             if i % 500 == 0:\n",
        "#                 print(f\"{i} / {len(appids)} 완료\")\n"
      ],
      "metadata": {
        "id": "3Wl1BVZdoTvN"
      },
      "execution_count": null,
      "outputs": []
    },
    {
      "cell_type": "code",
      "source": [
        "# 장르 불러오기 - 파일로 저장 / 실패 리스트 저장\n",
        "import requests\n",
        "import csv\n",
        "from concurrent.futures import ThreadPoolExecutor, as_completed\n",
        "import time\n",
        "\n",
        "INPUT_FILE = \"unique_appid_part_001_000000-004999.csv\"   # appid 리스트 (1열에 appid만 있음)\n",
        "OUTPUT_FILE = \"appid_genres_1.csv\"\n",
        "FAILED_FILE = \"failed_appid_1.csv\"\n",
        "\n",
        "# --- API 호출 함수 ---\n",
        "def get_genres(appid, retries=3, delay=2):\n",
        "    url = f\"https://store.steampowered.com/api/appdetails?appids={appid}\"\n",
        "    for attempt in range(retries):\n",
        "        try:\n",
        "            res = requests.get(url, timeout=10)\n",
        "            data = res.json()\n",
        "            if data.get(str(appid), {}).get(\"success\"):\n",
        "                genres = data[str(appid)][\"data\"].get(\"genres\", [])\n",
        "                return \";\".join([g[\"description\"] for g in genres])\n",
        "        except Exception as e:\n",
        "            # 네트워크/파싱 오류 → 재시도\n",
        "            time.sleep(delay * (attempt + 1))\n",
        "    return \"\"  # 끝까지 실패하면 빈값 리턴\n",
        "\n",
        "\n",
        "# --- 입력 데이터 읽기 ---\n",
        "with open(INPUT_FILE, \"r\", encoding=\"utf-8\") as fin:\n",
        "    appids = [line.strip() for line in fin if line.strip().isdigit()]\n",
        "\n",
        "# --- 출력 CSV 준비 ---\n",
        "with open(OUTPUT_FILE, \"w\", newline=\"\", encoding=\"utf-8\") as fout, \\\n",
        "     open(FAILED_FILE, \"w\", newline=\"\", encoding=\"utf-8\") as ffail:\n",
        "\n",
        "    writer = csv.writer(fout)\n",
        "    fail_writer = csv.writer(ffail)\n",
        "\n",
        "    writer.writerow([\"appid\", \"genres\"])\n",
        "    fail_writer.writerow([\"appid\"])  # 실패 appid 기록용\n",
        "\n",
        "    # 병렬 처리\n",
        "    with ThreadPoolExecutor(max_workers=15) as executor:\n",
        "        future_to_appid = {executor.submit(get_genres, appid): appid for appid in appids}\n",
        "\n",
        "        for i, future in enumerate(as_completed(future_to_appid), 1):\n",
        "            appid = future_to_appid[future]\n",
        "            genres = future.result()\n",
        "\n",
        "            if genres:\n",
        "                writer.writerow([appid, genres])\n",
        "            else:\n",
        "                fail_writer.writerow([appid])\n",
        "\n",
        "            # 버퍼를 즉시 파일에 쓰기\n",
        "            fout.flush()\n",
        "            ffail.flush()\n",
        "\n",
        "            if i % 500 == 0:\n",
        "                print(f\"{i} / {len(appids)} 완료\")\n"
      ],
      "metadata": {
        "id": "aXNvHfjCviK-",
        "colab": {
          "base_uri": "https://localhost:8080/"
        },
        "outputId": "85b1ef14-da01-45e1-fac2-7e013587a87d"
      },
      "execution_count": null,
      "outputs": [
        {
          "output_type": "stream",
          "name": "stdout",
          "text": [
            "500 / 5000 완료\n",
            "1000 / 5000 완료\n",
            "1500 / 5000 완료\n",
            "2000 / 5000 완료\n",
            "2500 / 5000 완료\n",
            "3000 / 5000 완료\n",
            "3500 / 5000 완료\n",
            "4000 / 5000 완료\n",
            "4500 / 5000 완료\n",
            "5000 / 5000 완료\n"
          ]
        }
      ]
    },
    {
      "cell_type": "code",
      "source": [
        "# 실패한 리스트만 다시 불러오기 - 1185\n",
        "import requests\n",
        "import csv\n",
        "from concurrent.futures import ThreadPoolExecutor, as_completed\n",
        "import time\n",
        "\n",
        "FAILED_FILE = \"failed_appid_1.csv\"\n",
        "OUTPUT_FILE = \"appid_genres_1.csv\"\n",
        "RETRY_FAILED_FILE = \"failed_appid_retry_1.csv\"\n",
        "\n",
        "def get_genres(appid, retries=3, delay=2):\n",
        "    url = f\"https://store.steampowered.com/api/appdetails?appids={appid}\"\n",
        "    for attempt in range(retries):\n",
        "        try:\n",
        "            res = requests.get(url, timeout=10)\n",
        "            data = res.json()\n",
        "            if data.get(str(appid), {}).get(\"success\"):\n",
        "                genres = data[str(appid)][\"data\"].get(\"genres\", [])\n",
        "                return \";\".join([g[\"description\"] for g in genres])\n",
        "        except Exception:\n",
        "            time.sleep(delay * (attempt + 1))\n",
        "    return \"\"\n",
        "\n",
        "\n",
        "# --- 실패 appid 읽기 ---\n",
        "with open(FAILED_FILE, \"r\", encoding=\"utf-8\") as fin:\n",
        "    next(fin)  # 헤더 건너뛰기\n",
        "    appids = [line.strip() for line in fin if line.strip().isdigit()]\n",
        "\n",
        "print(f\"재시도 대상 appid 개수: {len(appids)}\")\n",
        "\n",
        "# --- 출력 파일 append 모드로 열기 ---\n",
        "with open(OUTPUT_FILE, \"a\", newline=\"\", encoding=\"utf-8\") as fout, \\\n",
        "     open(RETRY_FAILED_FILE, \"w\", newline=\"\", encoding=\"utf-8\") as ffail:\n",
        "\n",
        "    writer = csv.writer(fout)\n",
        "    fail_writer = csv.writer(ffail)\n",
        "\n",
        "    fail_writer.writerow([\"appid\"])  # 재시도 후에도 실패한 appid 기록\n",
        "\n",
        "    with ThreadPoolExecutor(max_workers=10) as executor:\n",
        "        future_to_appid = {executor.submit(get_genres, appid): appid for appid in appids}\n",
        "\n",
        "        for i, future in enumerate(as_completed(future_to_appid), 1):\n",
        "            appid = future_to_appid[future]\n",
        "            genres = future.result()\n",
        "\n",
        "            if genres:\n",
        "                writer.writerow([appid, genres])\n",
        "            else:\n",
        "                fail_writer.writerow([appid])\n",
        "\n",
        "            fout.flush()\n",
        "            ffail.flush()\n",
        "\n",
        "            if i % 200 == 0:\n",
        "                print(f\"{i} / {len(appids)} 재시도 완료\")\n"
      ],
      "metadata": {
        "id": "wZ59v6XVou_6",
        "colab": {
          "base_uri": "https://localhost:8080/"
        },
        "outputId": "a972da0b-c6e0-4090-fe4e-9a1e177fe8d1"
      },
      "execution_count": null,
      "outputs": [
        {
          "output_type": "stream",
          "name": "stdout",
          "text": [
            "재시도 대상 appid 개수: 3815\n",
            "200 / 3815 재시도 완료\n",
            "400 / 3815 재시도 완료\n",
            "600 / 3815 재시도 완료\n",
            "800 / 3815 재시도 완료\n",
            "1000 / 3815 재시도 완료\n",
            "1200 / 3815 재시도 완료\n",
            "1400 / 3815 재시도 완료\n",
            "1600 / 3815 재시도 완료\n",
            "1800 / 3815 재시도 완료\n",
            "2000 / 3815 재시도 완료\n",
            "2200 / 3815 재시도 완료\n",
            "2400 / 3815 재시도 완료\n",
            "2600 / 3815 재시도 완료\n",
            "2800 / 3815 재시도 완료\n",
            "3000 / 3815 재시도 완료\n",
            "3200 / 3815 재시도 완료\n",
            "3400 / 3815 재시도 완료\n",
            "3600 / 3815 재시도 완료\n",
            "3800 / 3815 재시도 완료\n"
          ]
        }
      ]
    },
    {
      "cell_type": "code",
      "source": [
        "# 장르 불러오기 - 파일로 저장 / 실패 리스트 저장\n",
        "import requests\n",
        "import csv\n",
        "from concurrent.futures import ThreadPoolExecutor, as_completed\n",
        "import time\n",
        "\n",
        "INPUT_FILE = \"unique_appid_part_002_005000-009999.csv\"   # appid 리스트 (1열에 appid만 있음)\n",
        "OUTPUT_FILE = \"appid_genres_2.csv\"\n",
        "FAILED_FILE = \"failed_appid_2.csv\"\n",
        "\n",
        "# --- API 호출 함수 ---\n",
        "def get_genres(appid, retries=3, delay=2):\n",
        "    url = f\"https://store.steampowered.com/api/appdetails?appids={appid}\"\n",
        "    for attempt in range(retries):\n",
        "        try:\n",
        "            res = requests.get(url, timeout=10)\n",
        "            data = res.json()\n",
        "            if data.get(str(appid), {}).get(\"success\"):\n",
        "                genres = data[str(appid)][\"data\"].get(\"genres\", [])\n",
        "                return \";\".join([g[\"description\"] for g in genres])\n",
        "        except Exception as e:\n",
        "            # 네트워크/파싱 오류 → 재시도\n",
        "            time.sleep(delay * (attempt + 1))\n",
        "    return \"\"  # 끝까지 실패하면 빈값 리턴\n",
        "\n",
        "\n",
        "# --- 입력 데이터 읽기 ---\n",
        "with open(INPUT_FILE, \"r\", encoding=\"utf-8\") as fin:\n",
        "    appids = [line.strip() for line in fin if line.strip().isdigit()]\n",
        "\n",
        "# --- 출력 CSV 준비 ---\n",
        "with open(OUTPUT_FILE, \"w\", newline=\"\", encoding=\"utf-8\") as fout, \\\n",
        "     open(FAILED_FILE, \"w\", newline=\"\", encoding=\"utf-8\") as ffail:\n",
        "\n",
        "    writer = csv.writer(fout)\n",
        "    fail_writer = csv.writer(ffail)\n",
        "\n",
        "    writer.writerow([\"appid\", \"genres\"])\n",
        "    fail_writer.writerow([\"appid\"])  # 실패 appid 기록용\n",
        "\n",
        "    # 병렬 처리\n",
        "    with ThreadPoolExecutor(max_workers=15) as executor:\n",
        "        future_to_appid = {executor.submit(get_genres, appid): appid for appid in appids}\n",
        "\n",
        "        for i, future in enumerate(as_completed(future_to_appid), 1):\n",
        "            appid = future_to_appid[future]\n",
        "            genres = future.result()\n",
        "\n",
        "            if genres:\n",
        "                writer.writerow([appid, genres])\n",
        "            else:\n",
        "                fail_writer.writerow([appid])\n",
        "\n",
        "            # 버퍼를 즉시 파일에 쓰기\n",
        "            fout.flush()\n",
        "            ffail.flush()\n",
        "\n",
        "            if i % 500 == 0:\n",
        "                print(f\"{i} / {len(appids)} 완료\")\n"
      ],
      "metadata": {
        "colab": {
          "base_uri": "https://localhost:8080/"
        },
        "id": "8abjZI6zL9IE",
        "outputId": "d4972c3c-83ba-49a8-fbd9-478fcf4a6cb3"
      },
      "execution_count": null,
      "outputs": [
        {
          "output_type": "stream",
          "name": "stdout",
          "text": [
            "500 / 5000 완료\n",
            "1000 / 5000 완료\n",
            "1500 / 5000 완료\n",
            "2000 / 5000 완료\n",
            "2500 / 5000 완료\n",
            "3000 / 5000 완료\n",
            "3500 / 5000 완료\n",
            "4000 / 5000 완료\n",
            "4500 / 5000 완료\n",
            "5000 / 5000 완료\n"
          ]
        }
      ]
    },
    {
      "cell_type": "code",
      "source": [
        "# 실패한 리스트만 다시 불러오기\n",
        "import requests\n",
        "import csv\n",
        "from concurrent.futures import ThreadPoolExecutor, as_completed\n",
        "import time\n",
        "\n",
        "FAILED_FILE = \"failed_appid_1.csv\"\n",
        "OUTPUT_FILE = \"appid_genres_1.csv\"\n",
        "RETRY_FAILED_FILE = \"failed_appid_retry_1.csv\"\n",
        "\n",
        "def get_genres(appid, retries=3, delay=2):\n",
        "    url = f\"https://store.steampowered.com/api/appdetails?appids={appid}\"\n",
        "    for attempt in range(retries):\n",
        "        try:\n",
        "            res = requests.get(url, timeout=10)\n",
        "            data = res.json()\n",
        "            if data.get(str(appid), {}).get(\"success\"):\n",
        "                genres = data[str(appid)][\"data\"].get(\"genres\", [])\n",
        "                return \";\".join([g[\"description\"] for g in genres])\n",
        "        except Exception:\n",
        "            time.sleep(delay * (attempt + 1))\n",
        "    return \"\"\n",
        "\n",
        "\n",
        "# --- 실패 appid 읽기 ---\n",
        "with open(FAILED_FILE, \"r\", encoding=\"utf-8\") as fin:\n",
        "    next(fin)  # 헤더 건너뛰기\n",
        "    appids = [line.strip() for line in fin if line.strip().isdigit()]\n",
        "\n",
        "print(f\"재시도 대상 appid 개수: {len(appids)}\")\n",
        "\n",
        "# --- 출력 파일 append 모드로 열기 ---\n",
        "with open(OUTPUT_FILE, \"a\", newline=\"\", encoding=\"utf-8\") as fout, \\\n",
        "     open(RETRY_FAILED_FILE, \"w\", newline=\"\", encoding=\"utf-8\") as ffail:\n",
        "\n",
        "    writer = csv.writer(fout)\n",
        "    fail_writer = csv.writer(ffail)\n",
        "\n",
        "    fail_writer.writerow([\"appid\"])  # 재시도 후에도 실패한 appid 기록\n",
        "\n",
        "    with ThreadPoolExecutor(max_workers=10) as executor:\n",
        "        future_to_appid = {executor.submit(get_genres, appid): appid for appid in appids}\n",
        "\n",
        "        for i, future in enumerate(as_completed(future_to_appid), 1):\n",
        "            appid = future_to_appid[future]\n",
        "            genres = future.result()\n",
        "\n",
        "            if genres:\n",
        "                writer.writerow([appid, genres])\n",
        "            else:\n",
        "                fail_writer.writerow([appid])\n",
        "\n",
        "            fout.flush()\n",
        "            ffail.flush()\n",
        "\n",
        "            if i % 200 == 0:\n",
        "                print(f\"{i} / {len(appids)} 재시도 완료\")\n"
      ],
      "metadata": {
        "id": "lwB4BPXyL3FQ"
      },
      "execution_count": null,
      "outputs": []
    }
  ]
}
